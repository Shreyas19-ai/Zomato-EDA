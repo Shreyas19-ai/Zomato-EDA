{
  "nbformat": 4,
  "nbformat_minor": 0,
  "metadata": {
    "colab": {
      "private_outputs": true,
      "provenance": [],
      "gpuType": "T4",
      "authorship_tag": "ABX9TyNkvvftu60I4xiKSTHldO5u",
      "include_colab_link": true
    },
    "kernelspec": {
      "name": "python3",
      "display_name": "Python 3"
    },
    "language_info": {
      "name": "python"
    },
    "accelerator": "GPU"
  },
  "cells": [
    {
      "cell_type": "markdown",
      "metadata": {
        "id": "view-in-github",
        "colab_type": "text"
      },
      "source": [
        "<a href=\"https://colab.research.google.com/github/Shreyas19-ai/Zomato-EDA/blob/master/zomato_eda.ipynb\" target=\"_parent\"><img src=\"https://colab.research.google.com/assets/colab-badge.svg\" alt=\"Open In Colab\"/></a>"
      ]
    },
    {
      "cell_type": "code",
      "execution_count": null,
      "metadata": {
        "id": "bsHrH3HHHbor"
      },
      "outputs": [],
      "source": [
        "from io import IncrementalNewlineDecoder\n",
        "import numpy as np\n",
        "import pandas as pd\n",
        "import matplotlib.pyplot as plt\n",
        "import seaborn as sns\n",
        "%matplotlib inline"
      ]
    },
    {
      "cell_type": "code",
      "source": [
        "df = pd.read_csv('zomato.csv',encoding = 'latin-1')"
      ],
      "metadata": {
        "id": "w1Z4kyv9ISMG"
      },
      "execution_count": null,
      "outputs": []
    },
    {
      "cell_type": "code",
      "source": [
        "df.head()"
      ],
      "metadata": {
        "id": "7IZjHbv3I0oE"
      },
      "execution_count": null,
      "outputs": []
    },
    {
      "cell_type": "code",
      "source": [
        "df.columns"
      ],
      "metadata": {
        "id": "r0SBVJZlI2MM"
      },
      "execution_count": null,
      "outputs": []
    },
    {
      "cell_type": "code",
      "source": [
        "df.info()"
      ],
      "metadata": {
        "id": "MiyF2hEVJYi8"
      },
      "execution_count": null,
      "outputs": []
    },
    {
      "cell_type": "code",
      "source": [
        "df.describe()"
      ],
      "metadata": {
        "id": "JvNfqOkkJac9"
      },
      "execution_count": null,
      "outputs": []
    },
    {
      "cell_type": "markdown",
      "source": [
        "# In data analysis what all things we do\n",
        "\n",
        "1.   Missing values\n",
        "2.   Explore numerical variables\n",
        "3.   Explore about categorical variables\n",
        "4.   Finding relationships between features\n",
        "\n"
      ],
      "metadata": {
        "id": "E01LYeezLWj6"
      }
    },
    {
      "cell_type": "code",
      "source": [
        "# missing values\n",
        "df.isnull().sum()"
      ],
      "metadata": {
        "id": "nDxe6rKKJni1"
      },
      "execution_count": null,
      "outputs": []
    },
    {
      "cell_type": "code",
      "source": [
        "# check missing values by list comprehension\n",
        "[features for features in df.columns if df[features].isnull().sum()>0]"
      ],
      "metadata": {
        "id": "QjjzOd0oL4h5"
      },
      "execution_count": null,
      "outputs": []
    },
    {
      "cell_type": "code",
      "source": [
        "# missing values through heatmap\n",
        "sns.heatmap(df.isnull(),yticklabels=False,cbar=False,cmap='viridis')"
      ],
      "metadata": {
        "id": "Y5-P09UfMxj8"
      },
      "execution_count": null,
      "outputs": []
    },
    {
      "cell_type": "code",
      "source": [
        "# merge 2 dataset on a common column\n",
        "# how -- in which dataset we have to merge, here left means merge in df1 in df\n",
        "\n",
        "# pd.merge(df,df1,on='column_name',how='left')"
      ],
      "metadata": {
        "id": "EZ9so_v_NMxM"
      },
      "execution_count": null,
      "outputs": []
    },
    {
      "cell_type": "code",
      "source": [
        "df.head()"
      ],
      "metadata": {
        "id": "N64d22ioQTU6"
      },
      "execution_count": null,
      "outputs": []
    },
    {
      "cell_type": "code",
      "source": [
        "# check datatypes\n",
        "df.dtypes"
      ],
      "metadata": {
        "id": "2BVAuCh5QWMW"
      },
      "execution_count": null,
      "outputs": []
    },
    {
      "cell_type": "code",
      "source": [
        "# Exploring\n",
        "df['Country Code'].value_counts()"
      ],
      "metadata": {
        "id": "-hGbyr_qQngS"
      },
      "execution_count": null,
      "outputs": []
    },
    {
      "cell_type": "code",
      "source": [
        "# storing key names\n",
        "country_names = df['Country Code'].value_counts().index"
      ],
      "metadata": {
        "id": "sAOKoOfNR1t0"
      },
      "execution_count": null,
      "outputs": []
    },
    {
      "cell_type": "code",
      "source": [
        "# storing values to the corresponding keys\n",
        "country_val = df['Country Code'].value_counts().values"
      ],
      "metadata": {
        "id": "ptrc5mwPQ-nR"
      },
      "execution_count": null,
      "outputs": []
    },
    {
      "cell_type": "code",
      "source": [
        "# pie chart\n",
        "plt.pie(country_val,labels=country_names)\n",
        "plt.plot()"
      ],
      "metadata": {
        "id": "_IUVHG7tRXWW"
      },
      "execution_count": null,
      "outputs": []
    },
    {
      "cell_type": "code",
      "source": [
        "# top 3 countries that use zomato\n",
        "plt.pie(country_val[:3],labels=country_names[:3])\n",
        "plt.plot()"
      ],
      "metadata": {
        "id": "XeDx1w87RsKd"
      },
      "execution_count": null,
      "outputs": []
    },
    {
      "cell_type": "code",
      "source": [
        "ratings = df.groupby(['Aggregate rating','Rating color','Rating text']).size().reset_index().rename(columns={0:'Rating Count'})"
      ],
      "metadata": {
        "id": "6Gd8zfCzSOhw"
      },
      "execution_count": null,
      "outputs": []
    },
    {
      "cell_type": "code",
      "source": [
        "ratings"
      ],
      "metadata": {
        "id": "qXiX2M1PRRok"
      },
      "execution_count": null,
      "outputs": []
    },
    {
      "cell_type": "code",
      "source": [
        "# barplot\n",
        "fig = plt.figure(figsize=(15,5))\n",
        "sns.barplot(x='Aggregate rating',y='Rating Count',data=ratings)"
      ],
      "metadata": {
        "id": "X4YjTzNeTIoV"
      },
      "execution_count": null,
      "outputs": []
    },
    {
      "cell_type": "code",
      "source": [
        "fig = plt.figure(figsize=(15,5))\n",
        "sns.barplot(x='Aggregate rating',y='Rating Count',hue='Rating color',data=ratings)"
      ],
      "metadata": {
        "id": "uDOmKuGrUXrG"
      },
      "execution_count": null,
      "outputs": []
    },
    {
      "cell_type": "code",
      "source": [
        "# mapping colors acc to dataset we use pallete and define our colors\n",
        "fig = plt.figure(figsize=(15,5))\n",
        "sns.barplot(x='Aggregate rating',y='Rating Count',hue='Rating color',data=ratings,palette=['white','red','orange','yellow','green','green'])"
      ],
      "metadata": {
        "id": "asfjBQ5fUxRO"
      },
      "execution_count": null,
      "outputs": []
    },
    {
      "cell_type": "code",
      "source": [
        "# count plot--- we use wrt to categorical variables\n",
        "sns.countplot(x='Rating color',data=ratings,palette=['white','red','orange','yellow','green','green'])"
      ],
      "metadata": {
        "id": "Hv-qj-YFU_FX"
      },
      "execution_count": null,
      "outputs": []
    },
    {
      "cell_type": "code",
      "source": [
        "df[df['Aggregate rating']==0.0]['Country Code'].value_counts()"
      ],
      "metadata": {
        "id": "EJtDoa8JXalg"
      },
      "execution_count": null,
      "outputs": []
    },
    {
      "cell_type": "code",
      "source": [
        "# find country names which has given 0 rating\n",
        "df[df['Rating color']=='White']['Country Code'].value_counts()"
      ],
      "metadata": {
        "id": "yfcuaFyoVU_e"
      },
      "execution_count": null,
      "outputs": []
    },
    {
      "cell_type": "code",
      "source": [
        "# Find out which currency is used by which country\n",
        "df.groupby(['Country Code','Currency']).size().reset_index()"
      ],
      "metadata": {
        "id": "p_eKZUyYVx0W"
      },
      "execution_count": null,
      "outputs": []
    },
    {
      "cell_type": "code",
      "source": [
        "# which countries have online delivery options\n",
        "df.groupby(['Has Online delivery','Country Code']).size().reset_index()"
      ],
      "metadata": {
        "id": "oHl3DMQXWf90"
      },
      "execution_count": null,
      "outputs": []
    },
    {
      "cell_type": "code",
      "source": [
        "df[df['Has Online delivery']=='Yes']['Country Code'].value_counts().reset_index()"
      ],
      "metadata": {
        "id": "UD5VqPWIW34D"
      },
      "execution_count": null,
      "outputs": []
    },
    {
      "cell_type": "code",
      "source": [
        "# create pie chart for city\n",
        "city_val = df['City'].value_counts().values\n",
        "city_val"
      ],
      "metadata": {
        "id": "4fUULhOxXIr1"
      },
      "execution_count": null,
      "outputs": []
    },
    {
      "cell_type": "code",
      "source": [
        "city_name = df['City'].value_counts().index\n",
        "city_name"
      ],
      "metadata": {
        "id": "-tl-EMXCXemv"
      },
      "execution_count": null,
      "outputs": []
    },
    {
      "cell_type": "code",
      "source": [
        "fig = plt.figure(figsize=(15,5))\n",
        "plt.pie(city_val,labels=city_name,autopct='%1.2f%%')"
      ],
      "metadata": {
        "id": "r7TOb1BPXvf6"
      },
      "execution_count": null,
      "outputs": []
    },
    {
      "cell_type": "code",
      "source": [
        "fig = plt.figure(figsize=(15,5))\n",
        "plt.pie(city_val[:5],labels=city_name[:5],autopct='%1.2f%%')\n"
      ],
      "metadata": {
        "id": "kVTjQsqVX_Ac"
      },
      "execution_count": null,
      "outputs": []
    },
    {
      "cell_type": "code",
      "source": [
        "# find top 10 cuisines\n",
        "df['Cuisines'].unique()"
      ],
      "metadata": {
        "id": "DoGBcLqbYHyS"
      },
      "execution_count": null,
      "outputs": []
    },
    {
      "cell_type": "code",
      "source": [
        "df['Cuisines'].value_counts()"
      ],
      "metadata": {
        "id": "JWb7HUa2YA9H"
      },
      "execution_count": null,
      "outputs": []
    },
    {
      "cell_type": "code",
      "source": [
        "cuisine_name = df['Cuisines'].value_counts().index"
      ],
      "metadata": {
        "id": "wFH44x1wYNSN"
      },
      "execution_count": null,
      "outputs": []
    },
    {
      "cell_type": "code",
      "source": [
        "cuisine_val = df['Cuisines'].value_counts().values"
      ],
      "metadata": {
        "id": "vfberoryYbc3"
      },
      "execution_count": null,
      "outputs": []
    },
    {
      "cell_type": "code",
      "source": [
        "fig = plt.figure(figsize=(15,5))\n",
        "plt.pie(cuisine_val[:10],labels=cuisine_name[:10],autopct='%1.2f%%')\n",
        "plt.show()"
      ],
      "metadata": {
        "id": "qlOBwDb1Yk1r"
      },
      "execution_count": null,
      "outputs": []
    }
  ]
}